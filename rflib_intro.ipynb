{
 "cells": [
  {
   "cell_type": "code",
   "execution_count": 16,
   "metadata": {},
   "outputs": [],
   "source": [
    "import rdflib\n",
    "from rdflib.namespace import RDF, XSD"
   ]
  },
  {
   "cell_type": "code",
   "execution_count": 4,
   "metadata": {},
   "outputs": [],
   "source": [
    "g = rdflib.Graph()"
   ]
  },
  {
   "cell_type": "code",
   "execution_count": 5,
   "metadata": {},
   "outputs": [
    {
     "data": {
      "text/plain": [
       "<Graph identifier=N7d2b2e769cc245d19dc38d90805d1847 (<class 'rdflib.graph.Graph'>)>"
      ]
     },
     "execution_count": 5,
     "metadata": {},
     "output_type": "execute_result"
    }
   ],
   "source": [
    "# tuple: the webpage is a recipe\n",
    "uri = \"https://www.food.com/recipe/327593\"\n",
    "s = rdflib.URIRef(uri)\n",
    "\n",
    "p = RDF.type\n",
    "\n",
    "nm = g.namespace_manager\n",
    "uri = \"http://purl.org/heals/food/\"\n",
    "ns_wtm = rdflib.Namespace(uri)\n",
    "prefix = \"wtm\"\n",
    "nm.bind(prefix, ns_wtm)\n",
    "\n",
    "o = ns_wtm.Recipe\n",
    "\n",
    "g.add((s,p,o,))"
   ]
  },
  {
   "cell_type": "code",
   "execution_count": 6,
   "metadata": {},
   "outputs": [
    {
     "data": {
      "text/plain": [
       "<Graph identifier=N7d2b2e769cc245d19dc38d90805d1847 (<class 'rdflib.graph.Graph'>)>"
      ]
     },
     "execution_count": 6,
     "metadata": {},
     "output_type": "execute_result"
    }
   ],
   "source": [
    "# cooking time\n",
    "p = ns_wtm.hasCookTime\n",
    "o = rdflib.Literal(\"8\", datatype=XSD.integer)\n",
    "g.add((s,p,o))\n",
    "\n",
    "# add ingredients\n",
    "p = ns_wtm.hasIngredient\n",
    "uri = \"http://purl.org/heals/ingredient/\"\n",
    "ns_ind = rdflib.Namespace(uri)\n",
    "\n",
    "prefix = \"ind\"\n",
    "nm.bind(prefix, ns_ind)\n",
    "\n",
    "o = ns_ind.ChickenEgg\n",
    "g.add((s,p,o,))\n",
    "g.add((s,p,ns_ind.CowMilk))\n",
    "g.add((s,p,ns_ind.WholeWheatFlour,))"
   ]
  },
  {
   "cell_type": "code",
   "execution_count": 7,
   "metadata": {},
   "outputs": [
    {
     "name": "stdout",
     "output_type": "stream",
     "text": [
      "https://www.food.com/recipe/327593 http://purl.org/heals/food/hasIngredient http://purl.org/heals/ingredient/WholeWheatFlour\n",
      "https://www.food.com/recipe/327593 http://purl.org/heals/food/hasIngredient http://purl.org/heals/ingredient/ChickenEgg\n",
      "https://www.food.com/recipe/327593 http://purl.org/heals/food/hasIngredient http://purl.org/heals/ingredient/CowMilk\n",
      "https://www.food.com/recipe/327593 http://www.w3.org/1999/02/22-rdf-syntax-ns#type http://purl.org/heals/food/Recipe\n",
      "https://www.food.com/recipe/327593 http://purl.org/heals/food/hasCookTime 8\n"
     ]
    }
   ],
   "source": [
    "for s,p,o in g:\n",
    "    print(s,p,o)"
   ]
  },
  {
   "cell_type": "code",
   "execution_count": 8,
   "metadata": {},
   "outputs": [
    {
     "name": "stdout",
     "output_type": "stream",
     "text": [
      "@prefix ind: <http://purl.org/heals/ingredient/> .\n",
      "@prefix wtm: <http://purl.org/heals/food/> .\n",
      "@prefix xsd: <http://www.w3.org/2001/XMLSchema#> .\n",
      "\n",
      "<https://www.food.com/recipe/327593> a wtm:Recipe ;\n",
      "    wtm:hasCookTime 8 ;\n",
      "    wtm:hasIngredient ind:ChickenEgg,\n",
      "        ind:CowMilk,\n",
      "        ind:WholeWheatFlour .\n",
      "\n",
      "\n"
     ]
    }
   ],
   "source": [
    "s = g.serialize(format=\"ttl\")\n",
    "print(s)"
   ]
  },
  {
   "cell_type": "code",
   "execution_count": 14,
   "metadata": {},
   "outputs": [],
   "source": [
    "g.serialize(destination=\"tmp.ttl\", format=\"ttl\", encoding=\"utf-8\") ;\n"
   ]
  },
  {
   "cell_type": "code",
   "execution_count": 10,
   "metadata": {},
   "outputs": [],
   "source": [
    "data = g.serialize(\n",
    "    format=\"json-ld\",\n",
    "    indent=2,\n",
    "    encoding=\"utf-8\",\n",
    "    )\n",
    "\n",
    "with open(\"tmp.jsonld\", \"wb\") as f:\n",
    "    f.write(data)"
   ]
  },
  {
   "cell_type": "code",
   "execution_count": 12,
   "metadata": {},
   "outputs": [],
   "source": [
    "context = {\n",
    "    \"@language\": \"en\",\n",
    "    \"wtm\": \"http://purl.org/heals/food/\",\n",
    "    \"ind\": \"http://purl.org/heals/ingredient/\",\n",
    "    }"
   ]
  },
  {
   "cell_type": "code",
   "execution_count": 13,
   "metadata": {},
   "outputs": [],
   "source": [
    "data = g.serialize(\n",
    "    format=\"json-ld\",\n",
    "    context=context,\n",
    "    indent=2,\n",
    "    encoding=\"utf-8\",\n",
    "    )\n",
    "\n",
    "with open(\"tmp.jsonld\", \"wb\") as f:\n",
    "    f.write(data)"
   ]
  }
 ],
 "metadata": {
  "kernelspec": {
   "display_name": "SDM_Lab3_GraphDB-G9u7Mmw6",
   "language": "python",
   "name": "python3"
  },
  "language_info": {
   "codemirror_mode": {
    "name": "ipython",
    "version": 3
   },
   "file_extension": ".py",
   "mimetype": "text/x-python",
   "name": "python",
   "nbconvert_exporter": "python",
   "pygments_lexer": "ipython3",
   "version": "3.8.10"
  },
  "orig_nbformat": 4
 },
 "nbformat": 4,
 "nbformat_minor": 2
}
