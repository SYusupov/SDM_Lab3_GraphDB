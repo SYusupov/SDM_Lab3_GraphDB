{
 "cells": [
  {
   "cell_type": "code",
   "execution_count": 15,
   "metadata": {},
   "outputs": [],
   "source": [
    "import rdflib\n",
    "from rdflib.namespace import RDF, XSD, Namespace, RDFS\n",
    "\n",
    "g = rdflib.Graph()\n",
    "gen = Namespace('http://www.example.edu/Research/')"
   ]
  },
  {
   "cell_type": "code",
   "execution_count": 14,
   "metadata": {},
   "outputs": [],
   "source": [
    "## check how rdfs/rdf terms are written:\n",
    "# import inspect\n",
    "# inspect.getmembers(RDFS, lambda a:not(inspect.isroutine(a)))"
   ]
  },
  {
   "cell_type": "code",
   "execution_count": 16,
   "metadata": {},
   "outputs": [
    {
     "data": {
      "text/plain": [
       "<Graph identifier=N8d5c093495cb4165b25276d973b61f2f (<class 'rdflib.graph.Graph'>)>"
      ]
     },
     "execution_count": 16,
     "metadata": {},
     "output_type": "execute_result"
    }
   ],
   "source": [
    "g.add((gen.term('writes'), RDFS.domain, gen.term('Author')))\n",
    "g.add((gen.term('writes'), RDFS.range, gen.term('Paper')))"
   ]
  },
  {
   "cell_type": "code",
   "execution_count": 17,
   "metadata": {},
   "outputs": [
    {
     "data": {
      "text/plain": [
       "<Graph identifier=N8d5c093495cb4165b25276d973b61f2f (<class 'rdflib.graph.Graph'>)>"
      ]
     },
     "execution_count": 17,
     "metadata": {},
     "output_type": "execute_result"
    }
   ],
   "source": [
    "g.add((gen.term('Conference'), RDFS.subClassOf, gen.term('Venue')))\n",
    "g.add((gen.term('Journal'), RDFS.subClassOf, gen.term('Venue')))"
   ]
  },
  {
   "cell_type": "code",
   "execution_count": 18,
   "metadata": {},
   "outputs": [
    {
     "data": {
      "text/plain": [
       "<Graph identifier=N8d5c093495cb4165b25276d973b61f2f (<class 'rdflib.graph.Graph'>)>"
      ]
     },
     "execution_count": 18,
     "metadata": {},
     "output_type": "execute_result"
    }
   ],
   "source": [
    "g.add((gen.term('submittedTo'), RDFS.domain, gen.term('Paper')))\n",
    "g.add((gen.term('submittedTo'), RDFS.range, gen.term('Venue')))"
   ]
  },
  {
   "cell_type": "code",
   "execution_count": null,
   "metadata": {},
   "outputs": [],
   "source": []
  }
 ],
 "metadata": {
  "kernelspec": {
   "display_name": "SDM_Lab3_GraphDB-G9u7Mmw6",
   "language": "python",
   "name": "python3"
  },
  "language_info": {
   "codemirror_mode": {
    "name": "ipython",
    "version": 3
   },
   "file_extension": ".py",
   "mimetype": "text/x-python",
   "name": "python",
   "nbconvert_exporter": "python",
   "pygments_lexer": "ipython3",
   "version": "3.8.10"
  },
  "orig_nbformat": 4
 },
 "nbformat": 4,
 "nbformat_minor": 2
}
